{
 "cells": [
  {
   "cell_type": "code",
   "execution_count": 1,
   "id": "3666c78e",
   "metadata": {},
   "outputs": [],
   "source": [
    "%md \n",
    "This note book is "
   ]
  },
  {
   "cell_type": "code",
   "execution_count": 2,
   "id": "54e9c743",
   "metadata": {},
   "outputs": [],
   "source": [
    "\n",
    "This note book is "
   ]
  },
  {
   "cell_type": "code",
   "execution_count": 3,
   "id": "b8a65f5f",
   "metadata": {},
   "outputs": [],
   "source": [
    "This Jupyter Notebook is environment where perform different EDA techniques and training models"
   ]
  },
  {
   "cell_type": "code",
   "execution_count": 4,
   "id": "5718a7bf",
   "metadata": {},
   "outputs": [],
   "source": [
    "This Jupyter Notebook is environment where perform different EDA techniques and training models"
   ]
  },
  {
   "cell_type": "code",
   "execution_count": 5,
   "id": "98f04924",
   "metadata": {},
   "outputs": [],
   "source": [
    "import json\n",
    "import yaml\n",
    "import wandb\n",
    "\n",
    "import pandas as pd\n",
    "import numpy as np\n",
    "import matplotlib.pyplot as plt\n",
    "\n",
    "from sklearn.ensemble import RandomForestRegressor\n",
    "from sklearn.metrics import mean_absolute_error\n",
    "from sklearn.pipeline import Pipeline , make_pipeline"
   ]
  },
  {
   "cell_type": "code",
   "execution_count": 6,
   "id": "87b73c47",
   "metadata": {},
   "outputs": [],
   "source": [
    "import json\n",
    "import yaml\n",
    "import wandb\n",
    "\n",
    "import pandas as pd\n",
    "import numpy as np\n",
    "import matplotlib.pyplot as plt\n",
    "\n",
    "from sklearn.ensemble import RandomForestRegressor\n",
    "from sklearn.metrics import mean_absolute_error\n",
    "from sklearn.pipeline import Pipeline , make_pipeline\n",
    "\n",
    "from sklearn.feature_extraction.text import TfidfVectorizer\n",
    "from sklearn.impute import SimpleImputer\n",
    "from sklearn.compose import ColumnTransformer\n",
    "from sklearn.model_selection import train_test_split,GridSearchCV\n",
    "from sklearn.preprocessing import OneHotEncoder, OrdinalEncoder, FunctionTransformer"
   ]
  },
  {
   "cell_type": "code",
   "execution_count": 7,
   "id": "39f81b97",
   "metadata": {},
   "outputs": [],
   "source": [
    "import json\n",
    "import yaml\n",
    "import wandb\n",
    "\n",
    "import pandas as pd\n",
    "import numpy as np\n",
    "import matplotlib.pyplot as plt\n",
    "\n",
    "from sklearn.ensemble import RandomForestRegressor\n",
    "from sklearn.metrics import mean_absolute_error\n",
    "from sklearn.pipeline import Pipeline , make_pipeline\n",
    "\n",
    "from sklearn.feature_extraction.text import TfidfVectorizer\n",
    "from sklearn.impute import SimpleImputer\n",
    "from sklearn.compose import ColumnTransformer\n",
    "from sklearn.model_selection import train_test_split,GridSearchCV\n",
    "from sklearn.preprocessing import OneHotEncoder, OrdinalEncoder, FunctionTransformer"
   ]
  },
  {
   "cell_type": "code",
   "execution_count": 8,
   "id": "a4b7aa39",
   "metadata": {},
   "outputs": [],
   "source": [
    "# Download the dataset from w&B\n",
    "# So this Dataset needs to be in W&B\n",
    "\n",
    "run = wandb.run(project = \"nyc_airbnb\" , group = \"modeling\" , save_code = True)\n",
    "input_path = wandb.use_artifact(\"trainval_data.csv:latest\").file()\n",
    "df = pd.read_csv(input_path)"
   ]
  },
  {
   "cell_type": "code",
   "execution_count": 9,
   "id": "7425376a",
   "metadata": {},
   "outputs": [],
   "source": [
    "# Download the dataset from w&B\n",
    "# So this Dataset needs to be in W&B\n",
    "\n",
    "run = wandb.run(project = \"nyc_airbnb\" , group = \"modeling\" , save_code = True)\n",
    "input_path = wandb.use_artifact(\"trainval_data.csv:latest\").file()\n",
    "df = pd.read_csv(input_path)"
   ]
  },
  {
   "cell_type": "code",
   "execution_count": 10,
   "id": "14eb64ba",
   "metadata": {},
   "outputs": [],
   "source": [
    "# Download the dataset from w&B\n",
    "# So this Dataset needs to be in W&B\n",
    "\n",
    "wandb.init()\n",
    "\n",
    "run = wandb.run(project = \"nyc_airbnb\" , group = \"modeling\" , save_code = True)\n",
    "input_path = wandb.use_artifact(\"trainval_data.csv:latest\").file()\n",
    "df = pd.read_csv(input_path)"
   ]
  },
  {
   "cell_type": "code",
   "execution_count": 11,
   "id": "56d47f0f",
   "metadata": {},
   "outputs": [],
   "source": [
    "# Download the dataset from w&B\n",
    "# So this Dataset needs to be in W&B\n",
    "import traceback\n",
    "wandb.init()\n",
    "try :\n",
    "    run = wandb.run(project = \"nyc_airbnb\" , group = \"modeling\" , save_code = True)\n",
    "    input_path = wandb.use_artifact(\"trainval_data.csv:latest\").file()\n",
    "    df = pd.read_csv(input_path)\n",
    "except:\n",
    "    traceback.print_exc()"
   ]
  },
  {
   "cell_type": "code",
   "execution_count": 12,
   "id": "7217e0fa",
   "metadata": {},
   "outputs": [
    {
     "data": {
      "text/html": [
       "Finishing last run (ID:cnyxgml2) before initializing another..."
      ],
      "text/plain": [
       "<IPython.core.display.HTML object>"
      ]
     },
     "metadata": {},
     "output_type": "display_data"
    },
    {
     "data": {
      "text/html": [
       " View run <strong style=\"color:#cdcd00\">clear-snow-2</strong> at: <a href='https://wandb.ai/dsri238-s-p-global/build-ml-pipeline-for-short-term-rental-prices-src_eda/runs/cnyxgml2' target=\"_blank\">https://wandb.ai/dsri238-s-p-global/build-ml-pipeline-for-short-term-rental-prices-src_eda/runs/cnyxgml2</a><br/>Synced 6 W&B file(s), 0 media file(s), 0 artifact file(s) and 0 other file(s)"
      ],
      "text/plain": [
       "<IPython.core.display.HTML object>"
      ]
     },
     "metadata": {},
     "output_type": "display_data"
    },
    {
     "data": {
      "text/html": [
       "Find logs at: <code>./wandb/run-20240901_164847-cnyxgml2/logs</code>"
      ],
      "text/plain": [
       "<IPython.core.display.HTML object>"
      ]
     },
     "metadata": {},
     "output_type": "display_data"
    },
    {
     "data": {
      "text/html": [
       "Successfully finished last run (ID:cnyxgml2). Initializing new run:<br/>"
      ],
      "text/plain": [
       "<IPython.core.display.HTML object>"
      ]
     },
     "metadata": {},
     "output_type": "display_data"
    },
    {
     "data": {
      "text/html": [
       "wandb version 0.17.8 is available!  To upgrade, please run:\n",
       " $ pip install wandb --upgrade"
      ],
      "text/plain": [
       "<IPython.core.display.HTML object>"
      ]
     },
     "metadata": {},
     "output_type": "display_data"
    },
    {
     "data": {
      "text/html": [
       "Tracking run with wandb version 0.16.0"
      ],
      "text/plain": [
       "<IPython.core.display.HTML object>"
      ]
     },
     "metadata": {},
     "output_type": "display_data"
    },
    {
     "data": {
      "text/html": [
       "Run data is saved locally in <code>/Users/swathilakhinana/Desktop/build-ml-pipeline-for-short-term-rental-prices/src/eda/wandb/run-20240901_164937-gcoaletw</code>"
      ],
      "text/plain": [
       "<IPython.core.display.HTML object>"
      ]
     },
     "metadata": {},
     "output_type": "display_data"
    },
    {
     "data": {
      "text/html": [
       "Syncing run <strong><a href='https://wandb.ai/dsri238-s-p-global/nyc_airbnb/runs/gcoaletw' target=\"_blank\">icy-bird-2</a></strong> to <a href='https://wandb.ai/dsri238-s-p-global/nyc_airbnb' target=\"_blank\">Weights & Biases</a> (<a href='https://wandb.me/run' target=\"_blank\">docs</a>)<br/>"
      ],
      "text/plain": [
       "<IPython.core.display.HTML object>"
      ]
     },
     "metadata": {},
     "output_type": "display_data"
    },
    {
     "data": {
      "text/html": [
       " View project at <a href='https://wandb.ai/dsri238-s-p-global/nyc_airbnb' target=\"_blank\">https://wandb.ai/dsri238-s-p-global/nyc_airbnb</a>"
      ],
      "text/plain": [
       "<IPython.core.display.HTML object>"
      ]
     },
     "metadata": {},
     "output_type": "display_data"
    },
    {
     "data": {
      "text/html": [
       " View run at <a href='https://wandb.ai/dsri238-s-p-global/nyc_airbnb/runs/gcoaletw' target=\"_blank\">https://wandb.ai/dsri238-s-p-global/nyc_airbnb/runs/gcoaletw</a>"
      ],
      "text/plain": [
       "<IPython.core.display.HTML object>"
      ]
     },
     "metadata": {},
     "output_type": "display_data"
    }
   ],
   "source": [
    "# Download the dataset from w&B\n",
    "# So this Dataset needs to be in W&B\n",
    "import traceback\n",
    "try :\n",
    "    run = wandb.init(project = \"nyc_airbnb\" , group = \"modeling\" , save_code = True)\n",
    "    input_path = wandb.use_artifact(\"trainval_data.csv:latest\").file()\n",
    "    df = pd.read_csv(input_path)\n",
    "except:\n",
    "    traceback.print_exc()"
   ]
  },
  {
   "cell_type": "code",
   "execution_count": 13,
   "id": "bab9831d",
   "metadata": {},
   "outputs": [],
   "source": [
    "# Download the dataset from w&B\n",
    "# So this Dataset needs to be in W&B\n",
    "import traceback\n",
    "try :\n",
    "    run = wandb.init(project = \"nyc_airbnb\" , group = \"modeling\" , save_code = True)\n",
    "    input_path = wandb.use_artifact(\"sample.csv:latest\").file()\n",
    "    df = pd.read_csv(input_path)\n",
    "except:\n",
    "    traceback.print_exc()"
   ]
  }
 ],
 "metadata": {
  "kernelspec": {
   "display_name": "Python 3",
   "language": "python",
   "name": "python3"
  },
  "language_info": {
   "codemirror_mode": {
    "name": "ipython",
    "version": 3
   },
   "file_extension": ".py",
   "mimetype": "text/x-python",
   "name": "python",
   "nbconvert_exporter": "python",
   "pygments_lexer": "ipython3",
   "version": "3.10.14"
  }
 },
 "nbformat": 4,
 "nbformat_minor": 5
}
